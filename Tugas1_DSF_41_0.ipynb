{
  "cells": [
    {
      "cell_type": "markdown",
      "metadata": {
        "id": "view-in-github",
        "colab_type": "text"
      },
      "source": [
        "<a href=\"https://colab.research.google.com/github/MuzhaffarRafi/Digital-Skill-Fair-41.0/blob/main/Tugas1_DSF_41_0.ipynb\" target=\"_parent\"><img src=\"https://colab.research.google.com/assets/colab-badge.svg\" alt=\"Open In Colab\"/></a>"
      ]
    },
    {
      "cell_type": "markdown",
      "id": "39bf7b14",
      "metadata": {
        "id": "39bf7b14"
      },
      "source": [
        "## Buatlah sebuah program yang:\n",
        "\n",
        "   1. Meminta input dari pengguna:\n",
        "\n",
        "       - Nama mahasiswa\n",
        "\n",
        "       - NIM mahasiswa\n",
        "\n",
        "       - Nilai ujian (dalam angka, 0–100)\n",
        "\n",
        "   2. Cek dan tampilkan tipe data dari setiap input.\n",
        "\n",
        "   3. Gunakan if-elif-else untuk menentukan kategori nilai, dengan kriteria sebagai berikut:\n",
        "   \n",
        "```\n",
        "Nilai | Kategori\n",
        "85 - 100 | A (Sangat Baik)\n",
        "75 - 84 | B (Baik)\n",
        "60 - 74 | C (Cukup)\n",
        "40 - 59 | D (Kurang)\n",
        "< 40 | E (Sangat Kurang)\n",
        "```\n",
        "\n",
        "```\n",
        "==== Ekspektasi Output Jawaban : =====\n",
        "Masukkan nama mahasiswa: Sarah\n",
        "Masukkan NIM: 12345678\n",
        "Masukkan nilai ujian (0-100): 81\n",
        "\n",
        "Nama: Sarah (type: <class 'str'>)\n",
        "NIM: 12345678 (type: <class 'str'>)\n",
        "Nilai: 81 (type: <class 'int'>)\n",
        "\n",
        "Hasil Evaluasi:\n",
        "Mahasiswa: Sarah (NIM: 12345678)\n",
        "Nilai Ujian: 81\n",
        "Kategori Nilai: B (Baik)\n",
        "```"
      ]
    },
    {
      "cell_type": "code",
      "execution_count": null,
      "id": "e2ab644c",
      "metadata": {
        "id": "e2ab644c",
        "colab": {
          "base_uri": "https://localhost:8080/"
        },
        "outputId": "74738d4d-ca91-4b61-f546-9aee39d3d444"
      },
      "outputs": [
        {
          "name": "stdout",
          "output_type": "stream",
          "text": [
            "Masukkan nama mahasiswa: Zahra\n",
            "Masukkan NIM: 34567\n",
            "Masukkan nilai ujian (0-100): 95\n"
          ]
        }
      ],
      "source": [
        "# Meminta input dari pengguna\n",
        "nama = input(\"Masukkan nama mahasiswa: \")\n",
        "nim = input(\"Masukkan NIM: \")\n",
        "nilai_input = input(\"Masukkan nilai ujian (0-100): \")"
      ]
    },
    {
      "cell_type": "code",
      "source": [
        "# Mengonversi nilai ujian ke tipe integer\n",
        "nilai = int(nilai_input)"
      ],
      "metadata": {
        "id": "KueyX6q7hfvs"
      },
      "id": "KueyX6q7hfvs",
      "execution_count": null,
      "outputs": []
    },
    {
      "cell_type": "code",
      "source": [
        "# Menampilkan tipe data dari setiap input\n",
        "print(f\"\\nNama: {nama} (type: {type(nama)})\")\n",
        "print(f\"NIM: {nim} (type: {type(nim)})\")\n",
        "print(f\"Nilai: {nilai} (type: {type(nilai)})\")"
      ],
      "metadata": {
        "colab": {
          "base_uri": "https://localhost:8080/"
        },
        "id": "aCwDswOVhz-B",
        "outputId": "899de996-81da-4c18-b916-95aa34e3a45f"
      },
      "id": "aCwDswOVhz-B",
      "execution_count": null,
      "outputs": [
        {
          "output_type": "stream",
          "name": "stdout",
          "text": [
            "\n",
            "Nama: Zahra (type: <class 'str'>)\n",
            "NIM: 34567 (type: <class 'str'>)\n",
            "Nilai: 95 (type: <class 'int'>)\n"
          ]
        }
      ]
    },
    {
      "cell_type": "code",
      "source": [
        "# Menentukan kategori nilai\n",
        "if 85 <= nilai <= 100:\n",
        "    kategori = \"A (Sangat Baik)\"\n",
        "elif 75 <= nilai <= 84:\n",
        "    kategori = \"B (Baik)\"\n",
        "elif 60 <= nilai <= 74:\n",
        "    kategori = \"C (Cukup)\"\n",
        "elif 40 <= nilai <= 59:\n",
        "    kategori = \"D (Kurang)\"\n",
        "else:\n",
        "    kategori = \"E (Sangat Kurang)\""
      ],
      "metadata": {
        "id": "Gg2s8Kr6h8EK"
      },
      "id": "Gg2s8Kr6h8EK",
      "execution_count": null,
      "outputs": []
    },
    {
      "cell_type": "code",
      "source": [
        "# Menampilkan hasil evaluasi\n",
        "print(\"\\nHasil Evaluasi:\")\n",
        "print(f\"Mahasiswa: {nama} (NIM: {nim})\")\n",
        "print(f\"Nilai Ujian: {nilai}\")\n",
        "print(f\"Kategori Nilai: {kategori}\")"
      ],
      "metadata": {
        "id": "LrK3hDYFiAlH",
        "outputId": "c471bcc8-a284-4458-d347-37d2dca41f23",
        "colab": {
          "base_uri": "https://localhost:8080/"
        }
      },
      "id": "LrK3hDYFiAlH",
      "execution_count": null,
      "outputs": [
        {
          "output_type": "stream",
          "name": "stdout",
          "text": [
            "\n",
            "Hasil Evaluasi:\n",
            "Mahasiswa: Zahra (NIM: 34567)\n",
            "Nilai Ujian: 95\n",
            "Kategori Nilai: A (Sangat Baik)\n"
          ]
        }
      ]
    }
  ],
  "metadata": {
    "kernelspec": {
      "display_name": "Python 3 (ipykernel)",
      "language": "python",
      "name": "python3"
    },
    "language_info": {
      "codemirror_mode": {
        "name": "ipython",
        "version": 3
      },
      "file_extension": ".py",
      "mimetype": "text/x-python",
      "name": "python",
      "nbconvert_exporter": "python",
      "pygments_lexer": "ipython3",
      "version": "3.11.4"
    },
    "colab": {
      "provenance": [],
      "include_colab_link": true
    }
  },
  "nbformat": 4,
  "nbformat_minor": 5
}